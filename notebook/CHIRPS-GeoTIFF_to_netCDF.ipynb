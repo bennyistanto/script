{
 "cells": [
  {
   "cell_type": "code",
   "execution_count": null,
   "metadata": {},
   "outputs": [],
   "source": [
    "#!/usr/bin/env python\n",
    "\"\"\"\n",
    "-------------------------------------------------------------------------------------------------------------\n",
    "Convert CHIRPS GeoTIFF in a folder to single NetCDF file with time dimension enabled that is CF-Compliant\n",
    "http://cfconventions.org/cf-conventions/v1.6.0/cf-conventions.html\n",
    " \n",
    "Based on Rich Signell's answer on StackExchange: https://gis.stackexchange.com/a/70487\n",
    "This script was tested using CHIRPS dekad data. Adjustment is needed if using other timesteps data for CHIRPS\n",
    "NCO (http://nco.sourceforge.net) must be installed before using this script\n",
    " \n",
    "Modified by\n",
    "Benny Istanto, UN World Food Programme, benny.istanto@wfp.org\n",
    "-------------------------------------------------------------------------------------------------------------\n",
    "\"\"\""
   ]
  },
  {
   "cell_type": "code",
   "execution_count": 69,
   "metadata": {},
   "outputs": [],
   "source": [
    "import numpy as np\n",
    "import datetime as dt\n",
    "import os\n",
    "import gdal\n",
    "import netCDF4\n",
    "import re"
   ]
  },
  {
   "cell_type": "code",
   "execution_count": 70,
   "metadata": {},
   "outputs": [],
   "source": [
    "ds = gdal.Open('/Users/bennyistanto/Temp/CHIRPS/Regular/Dekad/Rain/chirps-v2.0.1981.01.1.tif')"
   ]
  },
  {
   "cell_type": "code",
   "execution_count": 71,
   "metadata": {},
   "outputs": [],
   "source": [
    "a = ds.ReadAsArray()\n",
    "nlat,nlon = np.shape(a)"
   ]
  },
  {
   "cell_type": "code",
   "execution_count": 72,
   "metadata": {},
   "outputs": [],
   "source": [
    "b = ds.GetGeoTransform() #bbox, interval\n",
    "lon = np.arange(nlon)*b[1]+b[0]\n",
    "lat = np.arange(nlat)*b[5]+b[3]\n",
    "\n",
    "basedate = dt.datetime(1980,1,1,0,0,0)"
   ]
  },
  {
   "cell_type": "code",
   "execution_count": 73,
   "metadata": {},
   "outputs": [
    {
     "name": "stdout",
     "output_type": "stream",
     "text": [
      "2020-09-01 00:00:00\n",
      "/Users/bennyistanto/Temp/CHIRPS/Regular/Dekad/Rain/chirps-v2.0.2020.09.1.tif\n",
      "2020-09-02 00:00:00\n",
      "/Users/bennyistanto/Temp/CHIRPS/Regular/Dekad/Rain/chirps-v2.0.2020.09.2.tif\n",
      "2020-09-03 00:00:00\n",
      "/Users/bennyistanto/Temp/CHIRPS/Regular/Dekad/Rain/chirps-v2.0.2020.09.3.tif\n",
      "2020-10-01 00:00:00\n",
      "/Users/bennyistanto/Temp/CHIRPS/Regular/Dekad/Rain/chirps-v2.0.2020.10.1.tif\n",
      "2020-10-02 00:00:00\n",
      "/Users/bennyistanto/Temp/CHIRPS/Regular/Dekad/Rain/chirps-v2.0.2020.10.2.tif\n",
      "2020-10-03 00:00:00\n",
      "/Users/bennyistanto/Temp/CHIRPS/Regular/Dekad/Rain/chirps-v2.0.2020.10.3.tif\n"
     ]
    }
   ],
   "source": [
    "# create NetCDF file\n",
    "nco = netCDF4.Dataset('time_series.nc','w',clobber=True)\n",
    "\n",
    "# chunking is optional, but can improve access a lot: \n",
    "# (see: http://www.unidata.ucar.edu/blogs/developer/entry/chunking_data_choosing_shapes)\n",
    "chunk_lon=10\n",
    "chunk_lat=10\n",
    "chunk_time=12\n",
    "\n",
    "# create dimensions, variables and attributes:\n",
    "nco.createDimension('lon',nlon)\n",
    "nco.createDimension('lat',nlat)\n",
    "nco.createDimension('time',None)\n",
    "\n",
    "timeo = nco.createVariable('time','f4',('time'))\n",
    "timeo.units = 'days since 1980-1-1 00:00:00'\n",
    "timeo.standard_name = 'time'\n",
    "timeo.calendar = 'gregorian'\n",
    "timeo.axis = 'T'\n",
    "\n",
    "lono = nco.createVariable('lon','f4',('lon'))\n",
    "lono.units = 'degrees_east'\n",
    "lono.standard_name = 'longitude'\n",
    "lono.long_name = 'longitude'\n",
    "lono.axis = 'X'\n",
    "\n",
    "lato = nco.createVariable('lat','f4',('lat'))\n",
    "lato.units = 'degrees_north'\n",
    "lato.standard_name = 'latitude'\n",
    "lato.long_name = 'latitude'\n",
    "lato.axis = 'Y'\n",
    "\n",
    "# create container variable for CRS: lon/lat WGS84 datum\n",
    "crso = nco.createVariable('crs','i4')\n",
    "crso.long_name = 'Lon/Lat Coords in WGS84'\n",
    "crso.grid_mapping_name ='latitude_longitude'\n",
    "crso.longitude_of_prime_meridian = 0.0\n",
    "crso.semi_major_axis = 6378137.0\n",
    "crso.inverse_flattening = 298.257223563\n",
    "\n",
    "# create short integer variable for precipitation data, with chunking\n",
    "pcpo = nco.createVariable('precip', 'f4',  ('time', 'lat', 'lon'), \n",
    "   zlib=True,chunksizes=[chunk_time,chunk_lat,chunk_lon],fill_value=-9999.)\n",
    "pcpo.units = 'mm'\n",
    "pcpo.standard_name = 'convective precipitation rate'\n",
    "pcpo.long_name = 'Climate Hazards group InfraRed Precipitation with Stations'\n",
    "pcpo.time_step = 'dekad'\n",
    "pcpo.missing_value = -9999.\n",
    "pcpo.geospatial_lat_min = -50.\n",
    "pcpo.geospatial_lat_max = 50.\n",
    "pcpo.geospatial_lon_min = -180.\n",
    "pcpo.geospatial_lon_max = 180.\n",
    "pcpo.grid_mapping = 'crs'\n",
    "pcpo.set_auto_maskandscale(False)\n",
    "\n",
    "nco.Conventions='CF-1.6'\n",
    "nco.title = \"CHIRPS v2.0\"\n",
    "nco.history = \"created by Climate Hazards Group. University of California at Santa Barbara\"\n",
    "nco.version = \"Version 2.0\"\n",
    "nco.comments = \"time variable denotes the first day of the given dekad.\"\n",
    "nco.website = \"https://www.chc.ucsb.edu/data/chirps\"\n",
    "nco.date_created = \"2020-12-19\"\n",
    "nco.creator_name = \"Benny Istanto\"\n",
    "nco.creator_email = \"benny.istanto@wfp.org\"\n",
    "nco.institution = \"UN World Food Programme\"\n",
    "nco.note = \"The data is developed to support regular updating procedure for SPI analysis (https://github.com/wfpidn/SPI). This activities will support WFP to assess extreme dry and wet periods as part of WFPs Seasonal Monitoring\"\n",
    "\n",
    "\n",
    "#write lon,lat\n",
    "lono[:]=lon\n",
    "lato[:]=lat\n",
    "\n",
    "pat = re.compile('chirps-v2.0.[0-9]{4}\\.[0-9]{2}\\.[0-9]{1}')\n",
    "itime=0\n",
    "\n",
    "#step through data, writing time and data to NetCDF\n",
    "for root, dirs, files in os.walk('/Users/bennyistanto/Temp/CHIRPS/Regular/Dekad/Rain/'):\n",
    "    dirs.sort()\n",
    "    files.sort()\n",
    "    for f in files:\n",
    "        if re.match(pat,f):\n",
    "            # read the time values by parsing the filename\n",
    "            year=int(f[12:16])\n",
    "            mon=int(f[17:19])\n",
    "            dekad=int(f[20:21])\n",
    "            date=dt.datetime(year,mon,dekad,0,0,0)\n",
    "            print(date)\n",
    "            dtime=(date-basedate).total_seconds()/86400.\n",
    "            timeo[itime]=dtime\n",
    "           # precipitation\n",
    "            pcp_path = os.path.join(root,f)\n",
    "            print(pcp_path)\n",
    "            pcp=gdal.Open(pcp_path)\n",
    "            a=pcp.ReadAsArray()  #data\n",
    "            pcpo[itime,:,:]=a\n",
    "            itime=itime+1\n",
    "\n",
    "nco.close()"
   ]
  },
  {
   "cell_type": "code",
   "execution_count": null,
   "metadata": {},
   "outputs": [],
   "source": []
  }
 ],
 "metadata": {
  "kernelspec": {
   "display_name": "Python 3",
   "language": "python",
   "name": "python3"
  },
  "language_info": {
   "codemirror_mode": {
    "name": "ipython",
    "version": 3
   },
   "file_extension": ".py",
   "mimetype": "text/x-python",
   "name": "python",
   "nbconvert_exporter": "python",
   "pygments_lexer": "ipython3",
   "version": "3.8.5"
  }
 },
 "nbformat": 4,
 "nbformat_minor": 4
}
